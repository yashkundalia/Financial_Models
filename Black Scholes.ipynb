{
 "cells": [
  {
   "cell_type": "code",
   "execution_count": 1,
   "id": "4ed70f21-7f3f-42a1-8cc5-37c80a7932e3",
   "metadata": {},
   "outputs": [],
   "source": [
    "import numpy as np\n",
    "import pandas as pd\n",
    "from BS_pricer import *\n",
    "from Parameters import *\n",
    "from Processes import *\n",
    "import scipy.stats as ss\n",
    "from scipy.integrate import quad\n",
    "from functools import partial\n",
    "import matplotlib.pyplot as plt\n",
    "%matplotlib inline"
   ]
  },
  {
   "cell_type": "code",
   "execution_count": 2,
   "id": "5da015b5-9d43-478a-90e2-e0d74861683d",
   "metadata": {},
   "outputs": [],
   "source": [
    "S0 = 100.0  # spot stock price\n",
    "K = 100.0  # strike\n",
    "T = 1.0  # maturity\n",
    "r = 0.1  # risk free rate\n",
    "sig = 0.2  # diffusion coefficient or volatility"
   ]
  },
  {
   "cell_type": "code",
   "execution_count": 3,
   "id": "9c68df4d-ddf1-47fd-9134-3611f2c7915c",
   "metadata": {},
   "outputs": [
    {
     "name": "stdout",
     "output_type": "stream",
     "text": [
      "Call price:  13.269676584660893\n",
      "Put price:  3.753418388256833\n"
     ]
    }
   ],
   "source": [
    "call = BS_pricer.BS_closed(\"call\", S0, K, T, r, sig)\n",
    "put = BS_pricer.BS_closed(\"put\", S0, K, T, r, sig)\n",
    "print(\"Call price: \", call)\n",
    "print(\"Put price: \", put)"
   ]
  },
  {
   "cell_type": "code",
   "execution_count": 6,
   "id": "294f02a2-03aa-42ca-9054-1353d2f7a51e",
   "metadata": {},
   "outputs": [
    {
     "name": "stdout",
     "output_type": "stream",
     "text": [
      "13.269676584660893\n",
      "13.269676584660886\n"
     ]
    }
   ],
   "source": [
    "print(call)\n",
    "print(put + S0 - K*np.exp(-r*T))\n",
    "#put call parity"
   ]
  },
  {
   "cell_type": "markdown",
   "id": "0723bf7b-a4e9-49f1-879c-8b0206ab816e",
   "metadata": {},
   "source": [
    "Computing Option prices using Integration"
   ]
  },
  {
   "cell_type": "code",
   "execution_count": 11,
   "id": "1a7018c9-50f2-4c3f-af10-0e5865e26a62",
   "metadata": {},
   "outputs": [],
   "source": [
    "exp_ret = np.log(S0) + (r-0.5*sig**2)\n",
    "vol  = sig*np.sqrt(T)\n",
    "\n",
    "def log_normal(x,exp_ret,vol):\n",
    "    return (1/((np.sqrt(2*np.pi)*x*vol)))*np.exp(-(np.log(x) - exp_ret)**2/(2*vol**2))\n",
    "            "
   ]
  },
  {
   "cell_type": "code",
   "execution_count": 12,
   "id": "aca92e07-6ccb-4cc8-98fb-e37c4e3c9431",
   "metadata": {},
   "outputs": [
    {
     "data": {
      "image/png": "[encoded data removed]",
      "text/plain": [
       "<Figure size 576x360 with 1 Axes>"
      ]
     },
     "metadata": {
      "needs_background": "light"
     },
     "output_type": "display_data"
    }
   ],
   "source": [
    "plt.figure(figsize=(8, 5))\n",
    "x = np.linspace(30, 190, 100)\n",
    "plt.plot(x, log_normal(x, exp_ret, vol))\n",
    "plt.title(\"Lognormal distribution, conditioned on $S_0=100$\")\n",
    "plt.xlabel(\"$S_T$\")\n",
    "plt.show()"
   ]
  },
  {
   "cell_type": "code",
   "execution_count": 14,
   "id": "2f021301-9353-4105-aaf4-ee1a2814a44e",
   "metadata": {},
   "outputs": [
    {
     "name": "stdout",
     "output_type": "stream",
     "text": [
      "Call price: 13.269676584660926 \n",
      "Put price: 3.753418388256828 \n"
     ]
    }
   ],
   "source": [
    "def integrand(S,strike , exp_Ret,vol,payoff):\n",
    "    if payoff == \"call\":\n",
    "        return (S-strike)*ss.lognorm.pdf(S,vol , scale = np.exp(exp_ret))\n",
    "    elif payoff == \"put\":\n",
    "        return (strike-S)*ss.lognorm.pdf(S,vol , scale = np.exp(exp_ret))\n",
    "\n",
    "call = quad(integrand, K, np.inf, args=(K, exp_ret, vol, \"call\"))[0] * np.exp(-r * T)\n",
    "put = quad(integrand, 0, K, args=(K, exp_ret, vol, \"put\"))[0] * np.exp(-r * T)\n",
    "\n",
    "print(\"Call price: {} \\nPut price: {} \".format(call, put))"
   ]
  },
  {
   "cell_type": "code",
   "execution_count": 3,
   "id": "a7964426-625f-48a1-8d65-61d2301fdff1",
   "metadata": {},
   "outputs": [],
   "source": [
    "opt_param = Option_param(S0=100,K=100,T=1,exercise = \"European\" ,payoff = \"call\")\n",
    "diffusion_param = Diffusion_process(r=0.1,sig = 0.2)\n",
    "BS = BS_pricer(opt_param , diffusion_param)"
   ]
  },
  {
   "cell_type": "code",
   "execution_count": 4,
   "id": "732a6caa-2760-4e21-8dcc-b39bd5c51ae3",
   "metadata": {},
   "outputs": [
    {
     "data": {
      "text/plain": [
       "(array([13.27324864]), array([0.00294153]), 1.8759264945983887)"
      ]
     },
     "execution_count": 4,
     "metadata": {},
     "output_type": "execute_result"
    }
   ],
   "source": [
    "BS.BS_MC(N=30000000, Err=True, Time=True)\n",
    "# output is: price, standard error and execution time"
   ]
  },
  {
   "cell_type": "markdown",
   "id": "42b30c0d-7159-44c3-ac4a-7e065dacbe06",
   "metadata": {},
   "source": [
    "Binomial Tree"
   ]
  },
  {
   "cell_type": "code",
   "execution_count": 47,
   "id": "3a4e9636-709a-4e2f-82c4-e38724caf45f",
   "metadata": {},
   "outputs": [
    {
     "name": "stdout",
     "output_type": "stream",
     "text": [
      "Binomial tree price:  13.590948666100267\n"
     ]
    }
   ],
   "source": [
    "N= 2000\n",
    "payoff = \"call\"\n",
    "dt = float(T)/N\n",
    "u = np.exp(sig*np.sqrt(dt))\n",
    "d = 1.0/u\n",
    "\n",
    "V = np.zeros(N+1)\n",
    "\n",
    "S_T = np.array([S0*u**(N-j)*d**j for j in range(N+1)])\n",
    "\n",
    "a = np.exp(r*dt)\n",
    "p = (a-d)/(u-d)\n",
    "q = 1.0-p\n",
    "\n",
    "V[:] = np.maximum(S_T-K,0.0)\n",
    "\n",
    "for i in range(N,1,-1):\n",
    "    #print(i)\n",
    "    for j in range(i):\n",
    "       V[j] = np.exp(-r*dt)*(V[j]*p + V[j+1]*q)\n",
    "\n",
    "print(\"Binomial tree price: \" , V[0])"
   ]
  },
  {
   "cell_type": "markdown",
   "id": "877a5ab3-0ab9-4633-8bf0-3cdf6b0fb77e",
   "metadata": {},
   "source": [
    "Limitations"
   ]
  },
  {
   "cell_type": "code",
   "execution_count": 49,
   "id": "d50f3c16-ac21-4c09-8436-1e8d0e7ec5aa",
   "metadata": {},
   "outputs": [
    {
     "data": {
      "image/png": "[encoded data removed]",
      "text/plain": [
       "<Figure size 432x288 with 1 Axes>"
      ]
     },
     "metadata": {
      "needs_background": "light"
     },
     "output_type": "display_data"
    }
   ],
   "source": [
    "BS_sigma = partial(BS_pricer.BS_closed, \"call\", S0, K, T, r)  # binding the function\n",
    "sigmas = np.linspace(0.01, 10, 1000)\n",
    "\n",
    "plt.plot(sigmas, BS_sigma(sigmas))\n",
    "plt.xlabel(\"sig\")\n",
    "plt.ylabel(\"price\")\n",
    "plt.title(\"Black-Scholes price as function of volatility\")\n",
    "plt.show()\n"
   ]
  },
  {
   "cell_type": "code",
   "execution_count": null,
   "id": "2f19ee6a-c39b-476e-91bf-83f1971453cf",
   "metadata": {},
   "outputs": [],
   "source": []
  },
  {
   "cell_type": "code",
   "execution_count": null,
   "id": "4c43c185-e2be-47cb-9936-2d8068248a35",
   "metadata": {},
   "outputs": [],
   "source": []
  },
  {
   "cell_type": "code",
   "execution_count": null,
   "id": "1a3d5d9e-afc0-42b0-bf58-8538553e65f2",
   "metadata": {},
   "outputs": [],
   "source": []
  },
  {
   "cell_type": "code",
   "execution_count": null,
   "id": "847dabe5-5827-4c64-8ecb-27cb999d72f1",
   "metadata": {},
   "outputs": [],
   "source": []
  },
  {
   "cell_type": "code",
   "execution_count": null,
   "id": "18698189-2648-4511-80dd-b0553e4f1603",
   "metadata": {},
   "outputs": [],
   "source": []
  },
  {
   "cell_type": "code",
   "execution_count": null,
   "id": "4ecb83de-e32f-42c0-a351-79675878f80e",
   "metadata": {},
   "outputs": [],
   "source": []
  }
 ],
 "metadata": {
  "kernelspec": {
   "display_name": "Python 3 (ipykernel)",
   "language": "python",
   "name": "python3"
  },
  "language_info": {
   "codemirror_mode": {
    "name": "ipython",
    "version": 3
   },
   "file_extension": ".py",
   "mimetype": "text/x-python",
   "name": "python",
   "nbconvert_exporter": "python",
   "pygments_lexer": "ipython3",
   "version": "3.9.5"
  },
  "widgets": {
   "application/vnd.jupyter.widget-state+json": {
    "state": {},
    "version_major": 2,
    "version_minor": 0
   }
  }
 },
 "nbformat": 4,
 "nbformat_minor": 5
}
